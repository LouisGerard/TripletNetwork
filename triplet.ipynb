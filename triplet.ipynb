{
 "cells": [
  {
   "cell_type": "markdown",
   "metadata": {},
   "source": [
    "## Set up environement"
   ]
  },
  {
   "cell_type": "code",
   "execution_count": 286,
   "metadata": {},
   "outputs": [],
   "source": [
    "import sys\n",
    "venv_root = '/var/lib/vz/data/g13005245/DEEP/'\n",
    "sys.path.append(venv_root + 'lib/python3.5/site-packages')\n",
    "\n",
    "import warnings\n",
    "warnings.filterwarnings('ignore')"
   ]
  },
  {
   "cell_type": "code",
   "execution_count": 395,
   "metadata": {},
   "outputs": [],
   "source": [
    "import keras\n",
    "import numpy as np\n",
    "from sklearn.neighbors import KNeighborsClassifier\n",
    "from sklearn.decomposition import PCA\n",
    "import matplotlib.pyplot as plt"
   ]
  },
  {
   "cell_type": "markdown",
   "metadata": {},
   "source": [
    "## Data processing"
   ]
  },
  {
   "cell_type": "code",
   "execution_count": 288,
   "metadata": {},
   "outputs": [],
   "source": [
    "(x_train, y_train), (x_test, y_test) = keras.datasets.mnist.load_data()"
   ]
  },
  {
   "cell_type": "code",
   "execution_count": 289,
   "metadata": {},
   "outputs": [],
   "source": [
    "def normalize(x_train, x_test):\n",
    "    # compute mean and std for both train and test to make sure there is no bias between those two\n",
    "    mean = (x_train.shape[0] * x_train.mean() + x_test.shape[0] * x_test.mean()) / (x_train.shape[0] + x_test.shape[0])\n",
    "    std = (x_train.shape[0] * x_train.std() + x_test.shape[0] * x_test.std()) / (x_train.shape[0] + x_test.shape[0])\n",
    "    \n",
    "    return (x_train - mean) / std, (x_test - mean) / std\n",
    "\n",
    "x_train, x_test = normalize(x_train, x_test)"
   ]
  },
  {
   "cell_type": "code",
   "execution_count": 107,
   "metadata": {},
   "outputs": [],
   "source": [
    "def get_batch(x, y, size=1024):\n",
    "    while True:\n",
    "        x1_i = np.random.randint(x.shape[0], size=size)\n",
    "        x1 = x[x1_i]\n",
    "        y1 = y[x1_i]\n",
    "        x2_i = np.zeros(size)\n",
    "        x3_i = np.zeros(size)\n",
    "        \n",
    "        for label in range(10):\n",
    "            x1_i_label = np.where(y1 == label)[0]\n",
    "\n",
    "            # positive pair\n",
    "            i_same_class = np.where(y == label)[0]\n",
    "            x2_i_label = np.random.choice(i_same_class, size=x1_i_label.shape[0])\n",
    "            x2_i[x1_i_label] = x2_i_label\n",
    "            \n",
    "            # negative pair\n",
    "            i_diff_class = np.where(y != label)[0]\n",
    "            x3_i_label = np.random.choice(i_diff_class, size=x1_i_label.shape[0])\n",
    "            x3_i[x1_i_label] = x3_i_label\n",
    "            \n",
    "        yield x1, x[x2_i.astype(int)], x[x3_i.astype(int)]"
   ]
  },
  {
   "cell_type": "markdown",
   "metadata": {},
   "source": [
    "## Building Triplet"
   ]
  },
  {
   "cell_type": "code",
   "execution_count": 309,
   "metadata": {},
   "outputs": [],
   "source": [
    "compare_net = lambda x: keras.backend.sqrt(keras.backend.sum(keras.backend.square(x[0] - x[1]), axis=-1, keepdims=True))\n",
    "\n",
    "softmax = lambda x: keras.backend.softmax(x)"
   ]
  },
  {
   "cell_type": "code",
   "execution_count": 383,
   "metadata": {},
   "outputs": [],
   "source": [
    "def create_net():\n",
    "    net = keras.models.Sequential()\n",
    "    net.add(keras.layers.Conv2D(filters=1, kernel_size=5, padding='same', activation='relu', input_shape=(28, 28, 1)))\n",
    "    net.add(keras.layers.MaxPooling2D())\n",
    "    net.add(keras.layers.Conv2D(filters=32, kernel_size=3, padding='same', activation='relu'))\n",
    "    net.add(keras.layers.MaxPooling2D())\n",
    "    net.add(keras.layers.Conv2D(filters=64, kernel_size=3, padding='same', activation='relu'))\n",
    "    net.add(keras.layers.MaxPooling2D())\n",
    "    net.add(keras.layers.Conv2D(filters=128, kernel_size=2, padding='same', activation='relu'))\n",
    "    net.add(keras.layers.MaxPooling2D())\n",
    "    net.add(keras.layers.Flatten())\n",
    "    net.add(keras.layers.Dropout(0.2))\n",
    "    \n",
    "    return net"
   ]
  },
  {
   "cell_type": "code",
   "execution_count": 375,
   "metadata": {},
   "outputs": [],
   "source": [
    "def create_model():\n",
    "    input1 = keras.layers.Input(shape=(28, 28))\n",
    "    input2 = keras.layers.Input(shape=(28, 28))\n",
    "    input3 = keras.layers.Input(shape=(28, 28))\n",
    "    reshape1 = keras.layers.Reshape((28, 28, 1))(input1)\n",
    "    reshape2 = keras.layers.Reshape((28, 28, 1))(input2)\n",
    "    reshape3 = keras.layers.Reshape((28, 28, 1))(input3)\n",
    "    \n",
    "    net = create_net()\n",
    "    net1 = net(reshape1)\n",
    "    net2 = net(reshape2)\n",
    "    net3 = net(reshape3)\n",
    "    \n",
    "    compare_net1 = keras.layers.Lambda(compare_net)([net1, net2])\n",
    "    compare_net2 = keras.layers.Lambda(compare_net)([net1, net3])\n",
    "    \n",
    "    merge = keras.layers.Concatenate()([compare_net1, compare_net2])\n",
    "    out = keras.layers.Lambda(softmax)(merge)\n",
    "    \n",
    "    model = keras.models.Model(inputs=[input1, input2, input3], outputs=[out])\n",
    "    \n",
    "    # decay is not specified\n",
    "    opt = keras.optimizers.SGD(lr=0.01, momentum=0.9)\n",
    "    model.compile(opt, loss='mean_squared_error')\n",
    "    \n",
    "    return net, model"
   ]
  },
  {
   "cell_type": "markdown",
   "metadata": {},
   "source": [
    "## Training"
   ]
  },
  {
   "cell_type": "code",
   "execution_count": 401,
   "metadata": {},
   "outputs": [
    {
     "name": "stdout",
     "output_type": "stream",
     "text": [
      "__________________________________________________________________________________________________\n",
      "Layer (type)                    Output Shape         Param #     Connected to                     \n",
      "==================================================================================================\n",
      "input_288 (InputLayer)          (None, 28, 28)       0                                            \n",
      "__________________________________________________________________________________________________\n",
      "input_289 (InputLayer)          (None, 28, 28)       0                                            \n",
      "__________________________________________________________________________________________________\n",
      "input_290 (InputLayer)          (None, 28, 28)       0                                            \n",
      "__________________________________________________________________________________________________\n",
      "reshape_286 (Reshape)           (None, 28, 28, 1)    0           input_288[0][0]                  \n",
      "__________________________________________________________________________________________________\n",
      "reshape_287 (Reshape)           (None, 28, 28, 1)    0           input_289[0][0]                  \n",
      "__________________________________________________________________________________________________\n",
      "reshape_288 (Reshape)           (None, 28, 28, 1)    0           input_290[0][0]                  \n",
      "__________________________________________________________________________________________________\n",
      "sequential_112 (Sequential)     (None, 128)          51738       reshape_286[0][0]                \n",
      "                                                                 reshape_287[0][0]                \n",
      "                                                                 reshape_288[0][0]                \n",
      "__________________________________________________________________________________________________\n",
      "lambda_203 (Lambda)             (None, 1)            0           sequential_112[1][0]             \n",
      "                                                                 sequential_112[2][0]             \n",
      "__________________________________________________________________________________________________\n",
      "lambda_204 (Lambda)             (None, 1)            0           sequential_112[1][0]             \n",
      "                                                                 sequential_112[3][0]             \n",
      "__________________________________________________________________________________________________\n",
      "concatenate_87 (Concatenate)    (None, 2)            0           lambda_203[0][0]                 \n",
      "                                                                 lambda_204[0][0]                 \n",
      "__________________________________________________________________________________________________\n",
      "lambda_205 (Lambda)             (None, 2)            0           concatenate_87[0][0]             \n",
      "==================================================================================================\n",
      "Total params: 51,738\n",
      "Trainable params: 51,738\n",
      "Non-trainable params: 0\n",
      "__________________________________________________________________________________________________\n"
     ]
    }
   ],
   "source": [
    "net, model = create_model()\n",
    "model.summary()\n",
    "\n",
    "board = keras.callbacks.TensorBoard()"
   ]
  },
  {
   "cell_type": "code",
   "execution_count": null,
   "metadata": {},
   "outputs": [
    {
     "name": "stdout",
     "output_type": "stream",
     "text": [
      "Train on 640000 samples, validate on 64000 samples\n",
      "Epoch 1/1\n",
      "640000/640000 [==============================] - 141s 220us/step - loss: 0.0192 - val_loss: 0.0039\n",
      "Train on 640000 samples, validate on 64000 samples\n",
      "Epoch 2/2\n",
      "640000/640000 [==============================] - 137s 214us/step - loss: 0.0074 - val_loss: 0.0023\n",
      "Train on 640000 samples, validate on 64000 samples\n",
      "Epoch 3/3\n",
      "167584/640000 [======>.......................] - ETA: 1:37 - loss: 0.0059"
     ]
    }
   ],
   "source": [
    "batch_size = 640000\n",
    "val_size = 64000\n",
    "nb_epochs = 7\n",
    "\n",
    "loss = []\n",
    "val_loss = []\n",
    "\n",
    "y = np.ones((batch_size, 2))\n",
    "y[:, 0] = 0\n",
    "\n",
    "epoch = 0\n",
    "for (x1_train, x2_train, x3_train), (x1_val, x2_val, x3_val) in \\\n",
    "        zip(\n",
    "            get_batch(x_train, y_train, size=batch_size), \n",
    "            get_batch(x_test, y_test, size=val_size)\n",
    "        ):\n",
    "    h = model.fit([x1_train, x2_train, x3_train], y, \n",
    "                  validation_data=([x1_val, x2_val, x3_val], y[:val_size]),\n",
    "                  shuffle=False, \n",
    "                  callbacks=[board], \n",
    "                  epochs=epoch+1 ,initial_epoch=epoch)\n",
    "    \n",
    "    loss.append(h.history['loss'])\n",
    "    val_loss.append(h.history['val_loss'])\n",
    "    \n",
    "    epoch += 1\n",
    "    if epoch == nb_epochs:\n",
    "        break"
   ]
  },
  {
   "cell_type": "code",
   "execution_count": null,
   "metadata": {},
   "outputs": [],
   "source": [
    "x_plot = np.arange(nb_epochs)\n",
    "plt.plot(x_plot, loss, label='loss')\n",
    "plt.plot(x_plot, val_loss, label='val_loss')\n",
    "plt.legend()\n",
    "plt.show()"
   ]
  },
  {
   "cell_type": "code",
   "execution_count": null,
   "metadata": {},
   "outputs": [],
   "source": [
    "knn = KNeighborsClassifier(5)\n",
    "x_train_representations = net.predict(x_train.reshape(-1, 28, 28, 1))\n",
    "knn.fit(x_train_representations, y_train)"
   ]
  },
  {
   "cell_type": "markdown",
   "metadata": {},
   "source": [
    "## Testing"
   ]
  },
  {
   "cell_type": "code",
   "execution_count": null,
   "metadata": {},
   "outputs": [],
   "source": [
    "x_test_representations = net.predict(x_test.reshape(-1, 28, 28, 1))\n",
    "knn.score(x_test_representations, y_test)"
   ]
  },
  {
   "cell_type": "code",
   "execution_count": null,
   "metadata": {},
   "outputs": [],
   "source": [
    "pca = PCA(2)\n",
    "pca_result = pca.fit_transform(x_test_representations)\n",
    "\n",
    "colors = ['red', 'yellow', 'green', 'blue', 'black', 'grey', 'orange', 'purple', 'cyan', 'pink']\n",
    "for label in range(10):\n",
    "    plt.scatter(pca_result[y_test == label][:, 0], pca_result[y_test == label][:, 1], \n",
    "                s=1,\n",
    "                color=colors[label], \n",
    "                label=label)\n",
    "plt.legend()\n",
    "plt.show()"
   ]
  }
 ],
 "metadata": {
  "accelerator": "GPU",
  "kernelspec": {
   "display_name": "Python 3",
   "language": "python",
   "name": "python3"
  },
  "language_info": {
   "codemirror_mode": {
    "name": "ipython",
    "version": 3
   },
   "file_extension": ".py",
   "mimetype": "text/x-python",
   "name": "python",
   "nbconvert_exporter": "python",
   "pygments_lexer": "ipython3",
   "version": "3.5.3"
  }
 },
 "nbformat": 4,
 "nbformat_minor": 2
}
